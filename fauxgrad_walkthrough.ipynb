{
  "nbformat": 4,
  "nbformat_minor": 0,
  "metadata": {
    "colab": {
      "name": "fauxgrad_walkthrough.ipynb",
      "provenance": [],
      "collapsed_sections": [],
      "include_colab_link": true
    },
    "kernelspec": {
      "display_name": "Python 3",
      "language": "python",
      "name": "python3"
    },
    "language_info": {
      "codemirror_mode": {
        "name": "ipython",
        "version": 3
      },
      "file_extension": ".py",
      "mimetype": "text/x-python",
      "name": "python",
      "nbconvert_exporter": "python",
      "pygments_lexer": "ipython3",
      "version": "3.8.8"
    }
  },
  "cells": [
    {
      "cell_type": "markdown",
      "metadata": {
        "id": "view-in-github",
        "colab_type": "text"
      },
      "source": [
        "<a href=\"https://colab.research.google.com/github/ksanjeevan/fauxgrad/blob/master/fauxgrad_walkthrough.ipynb\" target=\"_parent\"><img src=\"https://colab.research.google.com/assets/colab-badge.svg\" alt=\"Open In Colab\"/></a>"
      ]
    },
    {
      "cell_type": "markdown",
      "metadata": {
        "id": "oeyrO8krxte5"
      },
      "source": [
        "<p style=\"text-align:left;\">\n",
        "<font size=6>\n",
        "    <b>fauxgrad: simple autodiff in python</b>\n",
        "</font>\n",
        "    <span style=\"float:right;\">\n",
        "        <a href=\"https://github.com/ksanjeevan/fauxgrad\"><b>See on GitHub!</b></a>\n",
        "    </span>\n",
        "</p>\n",
        "\n",
        "----"
      ]
    },
    {
      "cell_type": "markdown",
      "metadata": {
        "id": "aTjQETxxxte5"
      },
      "source": [
        "Install `fauxgrad` and its dependencies by running the cell below:"
      ]
    },
    {
      "cell_type": "code",
      "metadata": {
        "id": "goSoioHkxte5"
      },
      "source": [
        "try:\n",
        "  from fauxgrad import Value\n",
        "except:\n",
        "  !pip install fauxgrad"
      ],
      "execution_count": null,
      "outputs": []
    },
    {
      "cell_type": "markdown",
      "metadata": {
        "id": "yM9hv2SNxte6"
      },
      "source": [
        "## Table of Contents\n",
        "* 0\\. [Introduction](#intro)\n",
        "* 1\\. [Implementation: the `Value` class](#val)\n",
        "\n",
        "    * 1.1\\. [Addition](#ad)\n",
        "       \n",
        "    * 1.2\\. [Multiplication](#mul)\n",
        "    \n",
        "    * 1.3\\. [Backward](#back)\n",
        "    \n",
        "    * 1.4\\. [Other functions](#func)\n",
        "    \n",
        "    \n",
        "* 2\\. [Verification: Training a Neural Net from scratch](#demo)"
      ]
    },
    {
      "cell_type": "markdown",
      "metadata": {
        "id": "VAQyW0iSNokr"
      },
      "source": [
        "<a name=\"intro\"/></a>\n",
        "# 0. Introduction\n",
        "\n",
        "There's plenty of excellent ([tinygrad](https://github.com/geohot/tinygrad)) and minimalist ([micrograd](https://github.com/karpathy/micrograd)) built-from-scratch, deep learning frameworks out there, so the goal of `fauxgrad` is to sacrifice some of the full functionality, and focus on the general idea and building blocks for writing your own library."
      ]
    },
    {
      "cell_type": "code",
      "metadata": {
        "id": "dh3uFkNDxte6"
      },
      "source": [
        "import inspect\n",
        "from IPython import display\n",
        "#helper display function \n",
        "def show_code(method, cls=Value):\n",
        "    return display.Code(inspect.getsource(getattr(cls, method)), language='python')"
      ],
      "execution_count": null,
      "outputs": []
    },
    {
      "cell_type": "markdown",
      "metadata": {
        "id": "N5xEDx7nxte7"
      },
      "source": [
        "<a name=\"val\"/></a>\n",
        "# 1. Implementing the `Value` class\n",
        "\n",
        "Automatic differentiation is the technique which allows us to train deep neural networks. The idea is that whenever a function is applied to a value (*forward* pass), we should also keep track of its derivative (*backward* pass).\n",
        "\n",
        "So if we take $a = f(x)$, then we also want to compute $grad = \\partial f(x)/\\partial x$. If we have a set of operations that define a [computational](https://colah.github.io/posts/2015-08-Backprop/) [graph](https://www.geeksforgeeks.org/computational-graphs-in-deep-learning/), we'll have to keep track of these derivative values at each node. This will allow use of the chain rule to cheaply evaluate the derivative of any variable with respect to another. An example:\n",
        "\n",
        "```\n",
        "a = 5\n",
        "b = -3\n",
        "c = a * b = 5 * -3\n",
        "d = a + c = 5 + (-15)\n",
        "e = d * 2 = -10 * 2 = -20\n",
        "```\n",
        "\n",
        "Doing these operations defines the computational graph, which can be visualized below:\n",
        "\n",
        "<p align=\"center\">\n",
        "  <img src=\"https://user-images.githubusercontent.com/12011058/133015103-46f90ffa-4e4c-4d23-9d06-855bc1544e7c.png\" width=\"700px\"/>\n",
        "</p>\n",
        "\n",
        "\n",
        "\n",
        "We might want to know $\\partial e/ \\partial a$. Well, we can use the chain rule to figure that out by reversing the forward pass of the graph:\n",
        "\n",
        "$$\\partial e/ \\partial a = \\partial e/ \\partial d * \\partial d/ \\partial a = \\partial e/ \\partial d * (\\partial a/ \\partial a + \\partial c/ \\partial a) = 2 * (1 + (-3)) = -4$$\n",
        "\n",
        "We can automate these calculations by: \n",
        "\n",
        "* A) **Wrapping our variables** with a class that handles/implements the derivatives of the functions we wish to use. See the `__init__` of our `Value` class below where we are using:\n",
        "    \n",
        "    1. `self.parents` to keep track of the `Value`s that resulted in this one being created (if we're talking about `d` from the example above, its parents would be `[a, c]`, while `a` has parents `[]`)\n",
        "\n",
        "    2. `self.grad` to keep track of the cumulated derivative on this node\n",
        "\n",
        "    3. `self.diff` to store the partial derivatives of the function that end up acting on this `Value` (more explanation of this later)\n",
        "    \n",
        "    The code used is:"
      ]
    },
    {
      "cell_type": "code",
      "metadata": {
        "id": "apHlJztzxte7",
        "colab": {
          "base_uri": "https://localhost:8080/",
          "height": 119
        },
        "outputId": "c6a7ec9d-e9bd-4fdd-b383-ee7ae5ce6369"
      },
      "source": [
        "show_code('__init__')"
      ],
      "execution_count": null,
      "outputs": [
        {
          "output_type": "execute_result",
          "data": {
            "text/latex": "\\begin{Verbatim}[commandchars=\\\\\\{\\}]\n  \\PY{k}{def} \\PY{n+nf+fm}{\\PYZus{}\\PYZus{}init\\PYZus{}\\PYZus{}}\\PY{p}{(}\\PY{n+nb+bp}{self}\\PY{p}{,} \\PY{n}{val}\\PY{p}{,} \\PY{n}{parents}\\PY{o}{=}\\PY{p}{[}\\PY{p}{]}\\PY{p}{)}\\PY{p}{:}\n    \\PY{n+nb+bp}{self}\\PY{o}{.}\\PY{n}{val} \\PY{o}{=} \\PY{n+nb}{float}\\PY{p}{(}\\PY{n}{val}\\PY{p}{)}\n    \\PY{n+nb+bp}{self}\\PY{o}{.}\\PY{n}{parents} \\PY{o}{=} \\PY{n}{parents}\n    \n    \\PY{n+nb+bp}{self}\\PY{o}{.}\\PY{n}{grad} \\PY{o}{=} \\PY{l+m+mi}{0}\n    \\PY{n+nb+bp}{self}\\PY{o}{.}\\PY{n}{diff} \\PY{o}{=} \\PY{k}{lambda} \\PY{n}{grad}\\PY{p}{:} \\PY{p}{[}\\PY{p}{]}\n\\end{Verbatim}\n",
            "text/html": [
              "<style>.output_html .hll { background-color: #ffffcc }\n",
              ".output_html  { background: #f8f8f8; }\n",
              ".output_html .c { color: #408080; font-style: italic } /* Comment */\n",
              ".output_html .err { border: 1px solid #FF0000 } /* Error */\n",
              ".output_html .k { color: #008000; font-weight: bold } /* Keyword */\n",
              ".output_html .o { color: #666666 } /* Operator */\n",
              ".output_html .ch { color: #408080; font-style: italic } /* Comment.Hashbang */\n",
              ".output_html .cm { color: #408080; font-style: italic } /* Comment.Multiline */\n",
              ".output_html .cp { color: #BC7A00 } /* Comment.Preproc */\n",
              ".output_html .cpf { color: #408080; font-style: italic } /* Comment.PreprocFile */\n",
              ".output_html .c1 { color: #408080; font-style: italic } /* Comment.Single */\n",
              ".output_html .cs { color: #408080; font-style: italic } /* Comment.Special */\n",
              ".output_html .gd { color: #A00000 } /* Generic.Deleted */\n",
              ".output_html .ge { font-style: italic } /* Generic.Emph */\n",
              ".output_html .gr { color: #FF0000 } /* Generic.Error */\n",
              ".output_html .gh { color: #000080; font-weight: bold } /* Generic.Heading */\n",
              ".output_html .gi { color: #00A000 } /* Generic.Inserted */\n",
              ".output_html .go { color: #888888 } /* Generic.Output */\n",
              ".output_html .gp { color: #000080; font-weight: bold } /* Generic.Prompt */\n",
              ".output_html .gs { font-weight: bold } /* Generic.Strong */\n",
              ".output_html .gu { color: #800080; font-weight: bold } /* Generic.Subheading */\n",
              ".output_html .gt { color: #0044DD } /* Generic.Traceback */\n",
              ".output_html .kc { color: #008000; font-weight: bold } /* Keyword.Constant */\n",
              ".output_html .kd { color: #008000; font-weight: bold } /* Keyword.Declaration */\n",
              ".output_html .kn { color: #008000; font-weight: bold } /* Keyword.Namespace */\n",
              ".output_html .kp { color: #008000 } /* Keyword.Pseudo */\n",
              ".output_html .kr { color: #008000; font-weight: bold } /* Keyword.Reserved */\n",
              ".output_html .kt { color: #B00040 } /* Keyword.Type */\n",
              ".output_html .m { color: #666666 } /* Literal.Number */\n",
              ".output_html .s { color: #BA2121 } /* Literal.String */\n",
              ".output_html .na { color: #7D9029 } /* Name.Attribute */\n",
              ".output_html .nb { color: #008000 } /* Name.Builtin */\n",
              ".output_html .nc { color: #0000FF; font-weight: bold } /* Name.Class */\n",
              ".output_html .no { color: #880000 } /* Name.Constant */\n",
              ".output_html .nd { color: #AA22FF } /* Name.Decorator */\n",
              ".output_html .ni { color: #999999; font-weight: bold } /* Name.Entity */\n",
              ".output_html .ne { color: #D2413A; font-weight: bold } /* Name.Exception */\n",
              ".output_html .nf { color: #0000FF } /* Name.Function */\n",
              ".output_html .nl { color: #A0A000 } /* Name.Label */\n",
              ".output_html .nn { color: #0000FF; font-weight: bold } /* Name.Namespace */\n",
              ".output_html .nt { color: #008000; font-weight: bold } /* Name.Tag */\n",
              ".output_html .nv { color: #19177C } /* Name.Variable */\n",
              ".output_html .ow { color: #AA22FF; font-weight: bold } /* Operator.Word */\n",
              ".output_html .w { color: #bbbbbb } /* Text.Whitespace */\n",
              ".output_html .mb { color: #666666 } /* Literal.Number.Bin */\n",
              ".output_html .mf { color: #666666 } /* Literal.Number.Float */\n",
              ".output_html .mh { color: #666666 } /* Literal.Number.Hex */\n",
              ".output_html .mi { color: #666666 } /* Literal.Number.Integer */\n",
              ".output_html .mo { color: #666666 } /* Literal.Number.Oct */\n",
              ".output_html .sa { color: #BA2121 } /* Literal.String.Affix */\n",
              ".output_html .sb { color: #BA2121 } /* Literal.String.Backtick */\n",
              ".output_html .sc { color: #BA2121 } /* Literal.String.Char */\n",
              ".output_html .dl { color: #BA2121 } /* Literal.String.Delimiter */\n",
              ".output_html .sd { color: #BA2121; font-style: italic } /* Literal.String.Doc */\n",
              ".output_html .s2 { color: #BA2121 } /* Literal.String.Double */\n",
              ".output_html .se { color: #BB6622; font-weight: bold } /* Literal.String.Escape */\n",
              ".output_html .sh { color: #BA2121 } /* Literal.String.Heredoc */\n",
              ".output_html .si { color: #BB6688; font-weight: bold } /* Literal.String.Interpol */\n",
              ".output_html .sx { color: #008000 } /* Literal.String.Other */\n",
              ".output_html .sr { color: #BB6688 } /* Literal.String.Regex */\n",
              ".output_html .s1 { color: #BA2121 } /* Literal.String.Single */\n",
              ".output_html .ss { color: #19177C } /* Literal.String.Symbol */\n",
              ".output_html .bp { color: #008000 } /* Name.Builtin.Pseudo */\n",
              ".output_html .fm { color: #0000FF } /* Name.Function.Magic */\n",
              ".output_html .vc { color: #19177C } /* Name.Variable.Class */\n",
              ".output_html .vg { color: #19177C } /* Name.Variable.Global */\n",
              ".output_html .vi { color: #19177C } /* Name.Variable.Instance */\n",
              ".output_html .vm { color: #19177C } /* Name.Variable.Magic */\n",
              ".output_html .il { color: #666666 } /* Literal.Number.Integer.Long */</style><div class=\"highlight\"><pre><span></span>  <span class=\"k\">def</span> <span class=\"fm\">__init__</span><span class=\"p\">(</span><span class=\"bp\">self</span><span class=\"p\">,</span> <span class=\"n\">val</span><span class=\"p\">,</span> <span class=\"n\">parents</span><span class=\"o\">=</span><span class=\"p\">[]):</span>\n",
              "    <span class=\"bp\">self</span><span class=\"o\">.</span><span class=\"n\">val</span> <span class=\"o\">=</span> <span class=\"nb\">float</span><span class=\"p\">(</span><span class=\"n\">val</span><span class=\"p\">)</span>\n",
              "    <span class=\"bp\">self</span><span class=\"o\">.</span><span class=\"n\">parents</span> <span class=\"o\">=</span> <span class=\"n\">parents</span>\n",
              "    \n",
              "    <span class=\"bp\">self</span><span class=\"o\">.</span><span class=\"n\">grad</span> <span class=\"o\">=</span> <span class=\"mi\">0</span>\n",
              "    <span class=\"bp\">self</span><span class=\"o\">.</span><span class=\"n\">diff</span> <span class=\"o\">=</span> <span class=\"k\">lambda</span> <span class=\"n\">grad</span><span class=\"p\">:</span> <span class=\"p\">[]</span>\n",
              "</pre></div>\n"
            ],
            "text/plain": [
              "  def __init__(self, val, parents=[]):\n",
              "    self.val = float(val)\n",
              "    self.parents = parents\n",
              "    \n",
              "    self.grad = 0\n",
              "    self.diff = lambda grad: []"
            ]
          },
          "metadata": {},
          "execution_count": 22
        }
      ]
    },
    {
      "cell_type": "markdown",
      "metadata": {
        "id": "o_kt5kzOxte8"
      },
      "source": [
        "\n",
        "* B) **Implementing each function** we want to use and its derivative (i.e. the forward and backward pass). To keep the amount of code small, let's focus on the minimum number of operations that we'll need:\n",
        "\n",
        "    - `__add__(x, y)`: adding two elements\n",
        "    - `__mul__(x, y)`: multiplying two elements\n",
        "    - `backward()`: calculating the gradient from this point backward through the computational graph\n",
        "    - `activation & loss functions`: any activation functions that we might use, or that we might use in the loss function"
      ]
    },
    {
      "cell_type": "markdown",
      "metadata": {
        "id": "0NduvA_Kxte8"
      },
      "source": [
        "<a name=\"ad\"/></a>\n",
        "## 1.1. `__add__`"
      ]
    },
    {
      "cell_type": "markdown",
      "metadata": {
        "id": "KMrL5ctfxte8"
      },
      "source": [
        "Our `Value` class stores the numeric data in the attribute `a.val`. So the forward pass when doing `c = a + b` will simply be `a.val + b.val` and storing it in a new `Value` (and making sure to set `c`'s parents to be `a` and `b`).\n",
        "\n",
        "Let's see the code for implementing the addition function:"
      ]
    },
    {
      "cell_type": "code",
      "metadata": {
        "id": "dtmVPQm8xte9",
        "colab": {
          "base_uri": "https://localhost:8080/",
          "height": 102
        },
        "outputId": "ff92b682-08ff-45cc-8255-b8889af582a0"
      },
      "source": [
        "show_code('__add__')"
      ],
      "execution_count": null,
      "outputs": [
        {
          "output_type": "execute_result",
          "data": {
            "text/latex": "\\begin{Verbatim}[commandchars=\\\\\\{\\}]\n  \\PY{k}{def} \\PY{n+nf+fm}{\\PYZus{}\\PYZus{}add\\PYZus{}\\PYZus{}}\\PY{p}{(}\\PY{n+nb+bp}{self}\\PY{p}{,} \\PY{n}{other}\\PY{p}{)}\\PY{p}{:}\n    \\PY{n}{other} \\PY{o}{=} \\PY{n}{other} \\PY{k}{if} \\PY{n+nb}{isinstance}\\PY{p}{(}\\PY{n}{other}\\PY{p}{,} \\PY{n}{Value}\\PY{p}{)} \\PY{k}{else} \\PY{n}{Value}\\PY{p}{(}\\PY{n}{other}\\PY{p}{)}\n    \\PY{n}{ret} \\PY{o}{=} \\PY{n}{Value}\\PY{p}{(}\\PY{n+nb+bp}{self}\\PY{o}{.}\\PY{n}{val} \\PY{o}{+} \\PY{n}{other}\\PY{o}{.}\\PY{n}{val}\\PY{p}{,} \\PY{n}{parents}\\PY{o}{=}\\PY{p}{[}\\PY{n+nb+bp}{self}\\PY{p}{,} \\PY{n}{other}\\PY{p}{]}\\PY{p}{)}\n    \\PY{n}{ret}\\PY{o}{.}\\PY{n}{diff} \\PY{o}{=} \\PY{k}{lambda} \\PY{n}{grad}\\PY{p}{:} \\PY{p}{[}\\PY{n}{grad}\\PY{p}{,} \\PY{n}{grad}\\PY{p}{]}\n    \\PY{k}{return} \\PY{n}{ret}\n\\end{Verbatim}\n",
            "text/html": [
              "<style>.output_html .hll { background-color: #ffffcc }\n",
              ".output_html  { background: #f8f8f8; }\n",
              ".output_html .c { color: #408080; font-style: italic } /* Comment */\n",
              ".output_html .err { border: 1px solid #FF0000 } /* Error */\n",
              ".output_html .k { color: #008000; font-weight: bold } /* Keyword */\n",
              ".output_html .o { color: #666666 } /* Operator */\n",
              ".output_html .ch { color: #408080; font-style: italic } /* Comment.Hashbang */\n",
              ".output_html .cm { color: #408080; font-style: italic } /* Comment.Multiline */\n",
              ".output_html .cp { color: #BC7A00 } /* Comment.Preproc */\n",
              ".output_html .cpf { color: #408080; font-style: italic } /* Comment.PreprocFile */\n",
              ".output_html .c1 { color: #408080; font-style: italic } /* Comment.Single */\n",
              ".output_html .cs { color: #408080; font-style: italic } /* Comment.Special */\n",
              ".output_html .gd { color: #A00000 } /* Generic.Deleted */\n",
              ".output_html .ge { font-style: italic } /* Generic.Emph */\n",
              ".output_html .gr { color: #FF0000 } /* Generic.Error */\n",
              ".output_html .gh { color: #000080; font-weight: bold } /* Generic.Heading */\n",
              ".output_html .gi { color: #00A000 } /* Generic.Inserted */\n",
              ".output_html .go { color: #888888 } /* Generic.Output */\n",
              ".output_html .gp { color: #000080; font-weight: bold } /* Generic.Prompt */\n",
              ".output_html .gs { font-weight: bold } /* Generic.Strong */\n",
              ".output_html .gu { color: #800080; font-weight: bold } /* Generic.Subheading */\n",
              ".output_html .gt { color: #0044DD } /* Generic.Traceback */\n",
              ".output_html .kc { color: #008000; font-weight: bold } /* Keyword.Constant */\n",
              ".output_html .kd { color: #008000; font-weight: bold } /* Keyword.Declaration */\n",
              ".output_html .kn { color: #008000; font-weight: bold } /* Keyword.Namespace */\n",
              ".output_html .kp { color: #008000 } /* Keyword.Pseudo */\n",
              ".output_html .kr { color: #008000; font-weight: bold } /* Keyword.Reserved */\n",
              ".output_html .kt { color: #B00040 } /* Keyword.Type */\n",
              ".output_html .m { color: #666666 } /* Literal.Number */\n",
              ".output_html .s { color: #BA2121 } /* Literal.String */\n",
              ".output_html .na { color: #7D9029 } /* Name.Attribute */\n",
              ".output_html .nb { color: #008000 } /* Name.Builtin */\n",
              ".output_html .nc { color: #0000FF; font-weight: bold } /* Name.Class */\n",
              ".output_html .no { color: #880000 } /* Name.Constant */\n",
              ".output_html .nd { color: #AA22FF } /* Name.Decorator */\n",
              ".output_html .ni { color: #999999; font-weight: bold } /* Name.Entity */\n",
              ".output_html .ne { color: #D2413A; font-weight: bold } /* Name.Exception */\n",
              ".output_html .nf { color: #0000FF } /* Name.Function */\n",
              ".output_html .nl { color: #A0A000 } /* Name.Label */\n",
              ".output_html .nn { color: #0000FF; font-weight: bold } /* Name.Namespace */\n",
              ".output_html .nt { color: #008000; font-weight: bold } /* Name.Tag */\n",
              ".output_html .nv { color: #19177C } /* Name.Variable */\n",
              ".output_html .ow { color: #AA22FF; font-weight: bold } /* Operator.Word */\n",
              ".output_html .w { color: #bbbbbb } /* Text.Whitespace */\n",
              ".output_html .mb { color: #666666 } /* Literal.Number.Bin */\n",
              ".output_html .mf { color: #666666 } /* Literal.Number.Float */\n",
              ".output_html .mh { color: #666666 } /* Literal.Number.Hex */\n",
              ".output_html .mi { color: #666666 } /* Literal.Number.Integer */\n",
              ".output_html .mo { color: #666666 } /* Literal.Number.Oct */\n",
              ".output_html .sa { color: #BA2121 } /* Literal.String.Affix */\n",
              ".output_html .sb { color: #BA2121 } /* Literal.String.Backtick */\n",
              ".output_html .sc { color: #BA2121 } /* Literal.String.Char */\n",
              ".output_html .dl { color: #BA2121 } /* Literal.String.Delimiter */\n",
              ".output_html .sd { color: #BA2121; font-style: italic } /* Literal.String.Doc */\n",
              ".output_html .s2 { color: #BA2121 } /* Literal.String.Double */\n",
              ".output_html .se { color: #BB6622; font-weight: bold } /* Literal.String.Escape */\n",
              ".output_html .sh { color: #BA2121 } /* Literal.String.Heredoc */\n",
              ".output_html .si { color: #BB6688; font-weight: bold } /* Literal.String.Interpol */\n",
              ".output_html .sx { color: #008000 } /* Literal.String.Other */\n",
              ".output_html .sr { color: #BB6688 } /* Literal.String.Regex */\n",
              ".output_html .s1 { color: #BA2121 } /* Literal.String.Single */\n",
              ".output_html .ss { color: #19177C } /* Literal.String.Symbol */\n",
              ".output_html .bp { color: #008000 } /* Name.Builtin.Pseudo */\n",
              ".output_html .fm { color: #0000FF } /* Name.Function.Magic */\n",
              ".output_html .vc { color: #19177C } /* Name.Variable.Class */\n",
              ".output_html .vg { color: #19177C } /* Name.Variable.Global */\n",
              ".output_html .vi { color: #19177C } /* Name.Variable.Instance */\n",
              ".output_html .vm { color: #19177C } /* Name.Variable.Magic */\n",
              ".output_html .il { color: #666666 } /* Literal.Number.Integer.Long */</style><div class=\"highlight\"><pre><span></span>  <span class=\"k\">def</span> <span class=\"fm\">__add__</span><span class=\"p\">(</span><span class=\"bp\">self</span><span class=\"p\">,</span> <span class=\"n\">other</span><span class=\"p\">):</span>\n",
              "    <span class=\"n\">other</span> <span class=\"o\">=</span> <span class=\"n\">other</span> <span class=\"k\">if</span> <span class=\"nb\">isinstance</span><span class=\"p\">(</span><span class=\"n\">other</span><span class=\"p\">,</span> <span class=\"n\">Value</span><span class=\"p\">)</span> <span class=\"k\">else</span> <span class=\"n\">Value</span><span class=\"p\">(</span><span class=\"n\">other</span><span class=\"p\">)</span>\n",
              "    <span class=\"n\">ret</span> <span class=\"o\">=</span> <span class=\"n\">Value</span><span class=\"p\">(</span><span class=\"bp\">self</span><span class=\"o\">.</span><span class=\"n\">val</span> <span class=\"o\">+</span> <span class=\"n\">other</span><span class=\"o\">.</span><span class=\"n\">val</span><span class=\"p\">,</span> <span class=\"n\">parents</span><span class=\"o\">=</span><span class=\"p\">[</span><span class=\"bp\">self</span><span class=\"p\">,</span> <span class=\"n\">other</span><span class=\"p\">])</span>\n",
              "    <span class=\"n\">ret</span><span class=\"o\">.</span><span class=\"n\">diff</span> <span class=\"o\">=</span> <span class=\"k\">lambda</span> <span class=\"n\">grad</span><span class=\"p\">:</span> <span class=\"p\">[</span><span class=\"n\">grad</span><span class=\"p\">,</span> <span class=\"n\">grad</span><span class=\"p\">]</span>\n",
              "    <span class=\"k\">return</span> <span class=\"n\">ret</span>\n",
              "</pre></div>\n"
            ],
            "text/plain": [
              "  def __add__(self, other):\n",
              "    other = other if isinstance(other, Value) else Value(other)\n",
              "    ret = Value(self.val + other.val, parents=[self, other])\n",
              "    ret.diff = lambda grad: [grad, grad]\n",
              "    return ret"
            ]
          },
          "metadata": {},
          "execution_count": 23
        }
      ]
    },
    {
      "cell_type": "markdown",
      "metadata": {
        "id": "_gmZ77X3xte9"
      },
      "source": [
        "<a name=\"mul\"/></a>\n",
        "## 1.2. `__mul__`"
      ]
    },
    {
      "cell_type": "markdown",
      "metadata": {
        "id": "QsGWn3nrxte9"
      },
      "source": [
        "The forward pass for the multiplication function follows the same approach as in `__add__`, but let's look at the backward pass which we ignored before.\n",
        "\n",
        "We want to take in the gradient that was propagated up to this node (formally: $\\partial J/ \\partial c$) and multiply it by our derivative value. Since we have two variables that formed `c`, our `diff` will return two values as well, corresponding to [$\\partial c/ \\partial a$ , $\\partial c/ \\partial b$] times $\\partial J/ \\partial c$. \n",
        "\n",
        "That's why in the case of `__add__` above, both derivatives are `1` and we just propagate the value of the gradient, and in `__mul__` the derivatve $\\partial c/ \\partial a = b$ and $\\partial c/ \\partial b = a$. Let's look at the `__mul__` code:\n"
      ]
    },
    {
      "cell_type": "code",
      "metadata": {
        "id": "4AZRBvbUxte9",
        "colab": {
          "base_uri": "https://localhost:8080/",
          "height": 102
        },
        "outputId": "3a1af6e5-ac04-4920-e122-c5aa516df3ed"
      },
      "source": [
        "show_code('__mul__')"
      ],
      "execution_count": null,
      "outputs": [
        {
          "output_type": "execute_result",
          "data": {
            "text/latex": "\\begin{Verbatim}[commandchars=\\\\\\{\\}]\n  \\PY{k}{def} \\PY{n+nf+fm}{\\PYZus{}\\PYZus{}mul\\PYZus{}\\PYZus{}}\\PY{p}{(}\\PY{n+nb+bp}{self}\\PY{p}{,} \\PY{n}{other}\\PY{p}{)}\\PY{p}{:}\n    \\PY{n}{other} \\PY{o}{=} \\PY{n}{other} \\PY{k}{if} \\PY{n+nb}{isinstance}\\PY{p}{(}\\PY{n}{other}\\PY{p}{,} \\PY{n}{Value}\\PY{p}{)} \\PY{k}{else} \\PY{n}{Value}\\PY{p}{(}\\PY{n}{other}\\PY{p}{)}\n    \\PY{n}{ret} \\PY{o}{=} \\PY{n}{Value}\\PY{p}{(}\\PY{n+nb+bp}{self}\\PY{o}{.}\\PY{n}{val} \\PY{o}{*} \\PY{n}{other}\\PY{o}{.}\\PY{n}{val}\\PY{p}{,} \\PY{n}{parents}\\PY{o}{=}\\PY{p}{[}\\PY{n+nb+bp}{self}\\PY{p}{,} \\PY{n}{other}\\PY{p}{]}\\PY{p}{)}\n    \\PY{n}{ret}\\PY{o}{.}\\PY{n}{diff} \\PY{o}{=} \\PY{k}{lambda} \\PY{n}{grad}\\PY{p}{:} \\PY{p}{[}\\PY{n}{grad} \\PY{o}{*} \\PY{n}{other}\\PY{o}{.}\\PY{n}{val}\\PY{p}{,} \\PY{n}{grad} \\PY{o}{*} \\PY{n+nb+bp}{self}\\PY{o}{.}\\PY{n}{val}\\PY{p}{]}\n    \\PY{k}{return} \\PY{n}{ret}\n\\end{Verbatim}\n",
            "text/html": [
              "<style>.output_html .hll { background-color: #ffffcc }\n",
              ".output_html  { background: #f8f8f8; }\n",
              ".output_html .c { color: #408080; font-style: italic } /* Comment */\n",
              ".output_html .err { border: 1px solid #FF0000 } /* Error */\n",
              ".output_html .k { color: #008000; font-weight: bold } /* Keyword */\n",
              ".output_html .o { color: #666666 } /* Operator */\n",
              ".output_html .ch { color: #408080; font-style: italic } /* Comment.Hashbang */\n",
              ".output_html .cm { color: #408080; font-style: italic } /* Comment.Multiline */\n",
              ".output_html .cp { color: #BC7A00 } /* Comment.Preproc */\n",
              ".output_html .cpf { color: #408080; font-style: italic } /* Comment.PreprocFile */\n",
              ".output_html .c1 { color: #408080; font-style: italic } /* Comment.Single */\n",
              ".output_html .cs { color: #408080; font-style: italic } /* Comment.Special */\n",
              ".output_html .gd { color: #A00000 } /* Generic.Deleted */\n",
              ".output_html .ge { font-style: italic } /* Generic.Emph */\n",
              ".output_html .gr { color: #FF0000 } /* Generic.Error */\n",
              ".output_html .gh { color: #000080; font-weight: bold } /* Generic.Heading */\n",
              ".output_html .gi { color: #00A000 } /* Generic.Inserted */\n",
              ".output_html .go { color: #888888 } /* Generic.Output */\n",
              ".output_html .gp { color: #000080; font-weight: bold } /* Generic.Prompt */\n",
              ".output_html .gs { font-weight: bold } /* Generic.Strong */\n",
              ".output_html .gu { color: #800080; font-weight: bold } /* Generic.Subheading */\n",
              ".output_html .gt { color: #0044DD } /* Generic.Traceback */\n",
              ".output_html .kc { color: #008000; font-weight: bold } /* Keyword.Constant */\n",
              ".output_html .kd { color: #008000; font-weight: bold } /* Keyword.Declaration */\n",
              ".output_html .kn { color: #008000; font-weight: bold } /* Keyword.Namespace */\n",
              ".output_html .kp { color: #008000 } /* Keyword.Pseudo */\n",
              ".output_html .kr { color: #008000; font-weight: bold } /* Keyword.Reserved */\n",
              ".output_html .kt { color: #B00040 } /* Keyword.Type */\n",
              ".output_html .m { color: #666666 } /* Literal.Number */\n",
              ".output_html .s { color: #BA2121 } /* Literal.String */\n",
              ".output_html .na { color: #7D9029 } /* Name.Attribute */\n",
              ".output_html .nb { color: #008000 } /* Name.Builtin */\n",
              ".output_html .nc { color: #0000FF; font-weight: bold } /* Name.Class */\n",
              ".output_html .no { color: #880000 } /* Name.Constant */\n",
              ".output_html .nd { color: #AA22FF } /* Name.Decorator */\n",
              ".output_html .ni { color: #999999; font-weight: bold } /* Name.Entity */\n",
              ".output_html .ne { color: #D2413A; font-weight: bold } /* Name.Exception */\n",
              ".output_html .nf { color: #0000FF } /* Name.Function */\n",
              ".output_html .nl { color: #A0A000 } /* Name.Label */\n",
              ".output_html .nn { color: #0000FF; font-weight: bold } /* Name.Namespace */\n",
              ".output_html .nt { color: #008000; font-weight: bold } /* Name.Tag */\n",
              ".output_html .nv { color: #19177C } /* Name.Variable */\n",
              ".output_html .ow { color: #AA22FF; font-weight: bold } /* Operator.Word */\n",
              ".output_html .w { color: #bbbbbb } /* Text.Whitespace */\n",
              ".output_html .mb { color: #666666 } /* Literal.Number.Bin */\n",
              ".output_html .mf { color: #666666 } /* Literal.Number.Float */\n",
              ".output_html .mh { color: #666666 } /* Literal.Number.Hex */\n",
              ".output_html .mi { color: #666666 } /* Literal.Number.Integer */\n",
              ".output_html .mo { color: #666666 } /* Literal.Number.Oct */\n",
              ".output_html .sa { color: #BA2121 } /* Literal.String.Affix */\n",
              ".output_html .sb { color: #BA2121 } /* Literal.String.Backtick */\n",
              ".output_html .sc { color: #BA2121 } /* Literal.String.Char */\n",
              ".output_html .dl { color: #BA2121 } /* Literal.String.Delimiter */\n",
              ".output_html .sd { color: #BA2121; font-style: italic } /* Literal.String.Doc */\n",
              ".output_html .s2 { color: #BA2121 } /* Literal.String.Double */\n",
              ".output_html .se { color: #BB6622; font-weight: bold } /* Literal.String.Escape */\n",
              ".output_html .sh { color: #BA2121 } /* Literal.String.Heredoc */\n",
              ".output_html .si { color: #BB6688; font-weight: bold } /* Literal.String.Interpol */\n",
              ".output_html .sx { color: #008000 } /* Literal.String.Other */\n",
              ".output_html .sr { color: #BB6688 } /* Literal.String.Regex */\n",
              ".output_html .s1 { color: #BA2121 } /* Literal.String.Single */\n",
              ".output_html .ss { color: #19177C } /* Literal.String.Symbol */\n",
              ".output_html .bp { color: #008000 } /* Name.Builtin.Pseudo */\n",
              ".output_html .fm { color: #0000FF } /* Name.Function.Magic */\n",
              ".output_html .vc { color: #19177C } /* Name.Variable.Class */\n",
              ".output_html .vg { color: #19177C } /* Name.Variable.Global */\n",
              ".output_html .vi { color: #19177C } /* Name.Variable.Instance */\n",
              ".output_html .vm { color: #19177C } /* Name.Variable.Magic */\n",
              ".output_html .il { color: #666666 } /* Literal.Number.Integer.Long */</style><div class=\"highlight\"><pre><span></span>  <span class=\"k\">def</span> <span class=\"fm\">__mul__</span><span class=\"p\">(</span><span class=\"bp\">self</span><span class=\"p\">,</span> <span class=\"n\">other</span><span class=\"p\">):</span>\n",
              "    <span class=\"n\">other</span> <span class=\"o\">=</span> <span class=\"n\">other</span> <span class=\"k\">if</span> <span class=\"nb\">isinstance</span><span class=\"p\">(</span><span class=\"n\">other</span><span class=\"p\">,</span> <span class=\"n\">Value</span><span class=\"p\">)</span> <span class=\"k\">else</span> <span class=\"n\">Value</span><span class=\"p\">(</span><span class=\"n\">other</span><span class=\"p\">)</span>\n",
              "    <span class=\"n\">ret</span> <span class=\"o\">=</span> <span class=\"n\">Value</span><span class=\"p\">(</span><span class=\"bp\">self</span><span class=\"o\">.</span><span class=\"n\">val</span> <span class=\"o\">*</span> <span class=\"n\">other</span><span class=\"o\">.</span><span class=\"n\">val</span><span class=\"p\">,</span> <span class=\"n\">parents</span><span class=\"o\">=</span><span class=\"p\">[</span><span class=\"bp\">self</span><span class=\"p\">,</span> <span class=\"n\">other</span><span class=\"p\">])</span>\n",
              "    <span class=\"n\">ret</span><span class=\"o\">.</span><span class=\"n\">diff</span> <span class=\"o\">=</span> <span class=\"k\">lambda</span> <span class=\"n\">grad</span><span class=\"p\">:</span> <span class=\"p\">[</span><span class=\"n\">grad</span> <span class=\"o\">*</span> <span class=\"n\">other</span><span class=\"o\">.</span><span class=\"n\">val</span><span class=\"p\">,</span> <span class=\"n\">grad</span> <span class=\"o\">*</span> <span class=\"bp\">self</span><span class=\"o\">.</span><span class=\"n\">val</span><span class=\"p\">]</span>\n",
              "    <span class=\"k\">return</span> <span class=\"n\">ret</span>\n",
              "</pre></div>\n"
            ],
            "text/plain": [
              "  def __mul__(self, other):\n",
              "    other = other if isinstance(other, Value) else Value(other)\n",
              "    ret = Value(self.val * other.val, parents=[self, other])\n",
              "    ret.diff = lambda grad: [grad * other.val, grad * self.val]\n",
              "    return ret"
            ]
          },
          "metadata": {},
          "execution_count": 24
        }
      ]
    },
    {
      "cell_type": "markdown",
      "metadata": {
        "id": "Ig2PvmqNxte-"
      },
      "source": [
        "In order for this to work fully, we'd also implement `__sub__`, `__pow__`, etc. but they all follow the same idea, and are fully done in [micrograd](https://github.com/karpathy/micrograd). Here we only implement the essential operations to later train a neural net (even though it will make some later code slightly ugly... it's a bit of a tradeoff).\n",
        "\n",
        "This does mean that this happens:\n",
        "\n",
        "```python\n",
        "from fauxgrad import Value\n",
        "Value(3) + (-2)\n",
        ">>> Value(1.00; grad=0.00)\n",
        "Value(3) - 2\n",
        ">>> Traceback (most recent call last):\n",
        ">>>   File \"<stdin>\", line 1, in <module>\n",
        ">>> TypeError: unsupported operand type(s) for -: 'Value' and 'int'\n",
        "```\n",
        "\n",
        "Which is a bit annoying but again we're not going for completeness."
      ]
    },
    {
      "cell_type": "markdown",
      "metadata": {
        "id": "uDA8Mjuhxte-"
      },
      "source": [
        "<a name=\"back\"/></a>\n",
        "## 1.3. `backward`"
      ]
    },
    {
      "cell_type": "markdown",
      "metadata": {
        "id": "W3AoNZLyxte-"
      },
      "source": [
        "This function should now backtrack from the current node back through all the parent variables, calculating their respective partial derivatives along the way. We can split this up into:\n",
        "\n",
        "* A) **Traversing the graph**. If `c` is the result of some function of `a`, we won't be able to get the gradient of `a` until we know the gradient of `c` (chain rule). So what we need is a *reverse* [topologcal ordering](https://www.geeksforgeeks.org/topological-sorting/) of the nodes in the computational graph (e.g. in the example from above we would want the ordering `[e, d, c, b, a]`).\n",
        "\n",
        "    This can be seen in the helper function:"
      ]
    },
    {
      "cell_type": "code",
      "metadata": {
        "id": "LdbxLVENxte-",
        "colab": {
          "base_uri": "https://localhost:8080/",
          "height": 187
        },
        "outputId": "5abe8931-3a2c-48a9-e2c4-05fb04cb98b8"
      },
      "source": [
        "show_code('_rev_topo_sort')"
      ],
      "execution_count": null,
      "outputs": [
        {
          "output_type": "execute_result",
          "data": {
            "text/latex": "\\begin{Verbatim}[commandchars=\\\\\\{\\}]\n  \\PY{k}{def} \\PY{n+nf}{\\PYZus{}rev\\PYZus{}topo\\PYZus{}sort}\\PY{p}{(}\\PY{n+nb+bp}{self}\\PY{p}{)}\\PY{p}{:}\n    \\PY{k}{def} \\PY{n+nf}{traverse}\\PY{p}{(}\\PY{n}{node}\\PY{p}{)}\\PY{p}{:}\n      \\PY{k}{if} \\PY{n}{node} \\PY{o+ow}{in} \\PY{n}{visit}\\PY{p}{:} \\PY{k}{return}\n      \\PY{n}{visit}\\PY{o}{.}\\PY{n}{add}\\PY{p}{(}\\PY{n}{node}\\PY{p}{)}\n      \\PY{k}{for} \\PY{n}{p} \\PY{o+ow}{in} \\PY{n}{node}\\PY{o}{.}\\PY{n}{parents}\\PY{p}{:} \\PY{n}{traverse}\\PY{p}{(}\\PY{n}{p}\\PY{p}{)}\n      \\PY{n}{ret}\\PY{o}{.}\\PY{n}{append}\\PY{p}{(}\\PY{n}{node}\\PY{p}{)}\n\n    \\PY{n}{visit} \\PY{o}{=} \\PY{n+nb}{set}\\PY{p}{(}\\PY{p}{)}\\PY{p}{;} \\PY{n}{ret} \\PY{o}{=} \\PY{p}{[}\\PY{p}{]}\n    \\PY{n}{traverse}\\PY{p}{(}\\PY{n+nb+bp}{self}\\PY{p}{)}\n    \\PY{k}{return} \\PY{n+nb}{reversed}\\PY{p}{(}\\PY{n}{ret}\\PY{p}{)}\n\\end{Verbatim}\n",
            "text/html": [
              "<style>.output_html .hll { background-color: #ffffcc }\n",
              ".output_html  { background: #f8f8f8; }\n",
              ".output_html .c { color: #408080; font-style: italic } /* Comment */\n",
              ".output_html .err { border: 1px solid #FF0000 } /* Error */\n",
              ".output_html .k { color: #008000; font-weight: bold } /* Keyword */\n",
              ".output_html .o { color: #666666 } /* Operator */\n",
              ".output_html .ch { color: #408080; font-style: italic } /* Comment.Hashbang */\n",
              ".output_html .cm { color: #408080; font-style: italic } /* Comment.Multiline */\n",
              ".output_html .cp { color: #BC7A00 } /* Comment.Preproc */\n",
              ".output_html .cpf { color: #408080; font-style: italic } /* Comment.PreprocFile */\n",
              ".output_html .c1 { color: #408080; font-style: italic } /* Comment.Single */\n",
              ".output_html .cs { color: #408080; font-style: italic } /* Comment.Special */\n",
              ".output_html .gd { color: #A00000 } /* Generic.Deleted */\n",
              ".output_html .ge { font-style: italic } /* Generic.Emph */\n",
              ".output_html .gr { color: #FF0000 } /* Generic.Error */\n",
              ".output_html .gh { color: #000080; font-weight: bold } /* Generic.Heading */\n",
              ".output_html .gi { color: #00A000 } /* Generic.Inserted */\n",
              ".output_html .go { color: #888888 } /* Generic.Output */\n",
              ".output_html .gp { color: #000080; font-weight: bold } /* Generic.Prompt */\n",
              ".output_html .gs { font-weight: bold } /* Generic.Strong */\n",
              ".output_html .gu { color: #800080; font-weight: bold } /* Generic.Subheading */\n",
              ".output_html .gt { color: #0044DD } /* Generic.Traceback */\n",
              ".output_html .kc { color: #008000; font-weight: bold } /* Keyword.Constant */\n",
              ".output_html .kd { color: #008000; font-weight: bold } /* Keyword.Declaration */\n",
              ".output_html .kn { color: #008000; font-weight: bold } /* Keyword.Namespace */\n",
              ".output_html .kp { color: #008000 } /* Keyword.Pseudo */\n",
              ".output_html .kr { color: #008000; font-weight: bold } /* Keyword.Reserved */\n",
              ".output_html .kt { color: #B00040 } /* Keyword.Type */\n",
              ".output_html .m { color: #666666 } /* Literal.Number */\n",
              ".output_html .s { color: #BA2121 } /* Literal.String */\n",
              ".output_html .na { color: #7D9029 } /* Name.Attribute */\n",
              ".output_html .nb { color: #008000 } /* Name.Builtin */\n",
              ".output_html .nc { color: #0000FF; font-weight: bold } /* Name.Class */\n",
              ".output_html .no { color: #880000 } /* Name.Constant */\n",
              ".output_html .nd { color: #AA22FF } /* Name.Decorator */\n",
              ".output_html .ni { color: #999999; font-weight: bold } /* Name.Entity */\n",
              ".output_html .ne { color: #D2413A; font-weight: bold } /* Name.Exception */\n",
              ".output_html .nf { color: #0000FF } /* Name.Function */\n",
              ".output_html .nl { color: #A0A000 } /* Name.Label */\n",
              ".output_html .nn { color: #0000FF; font-weight: bold } /* Name.Namespace */\n",
              ".output_html .nt { color: #008000; font-weight: bold } /* Name.Tag */\n",
              ".output_html .nv { color: #19177C } /* Name.Variable */\n",
              ".output_html .ow { color: #AA22FF; font-weight: bold } /* Operator.Word */\n",
              ".output_html .w { color: #bbbbbb } /* Text.Whitespace */\n",
              ".output_html .mb { color: #666666 } /* Literal.Number.Bin */\n",
              ".output_html .mf { color: #666666 } /* Literal.Number.Float */\n",
              ".output_html .mh { color: #666666 } /* Literal.Number.Hex */\n",
              ".output_html .mi { color: #666666 } /* Literal.Number.Integer */\n",
              ".output_html .mo { color: #666666 } /* Literal.Number.Oct */\n",
              ".output_html .sa { color: #BA2121 } /* Literal.String.Affix */\n",
              ".output_html .sb { color: #BA2121 } /* Literal.String.Backtick */\n",
              ".output_html .sc { color: #BA2121 } /* Literal.String.Char */\n",
              ".output_html .dl { color: #BA2121 } /* Literal.String.Delimiter */\n",
              ".output_html .sd { color: #BA2121; font-style: italic } /* Literal.String.Doc */\n",
              ".output_html .s2 { color: #BA2121 } /* Literal.String.Double */\n",
              ".output_html .se { color: #BB6622; font-weight: bold } /* Literal.String.Escape */\n",
              ".output_html .sh { color: #BA2121 } /* Literal.String.Heredoc */\n",
              ".output_html .si { color: #BB6688; font-weight: bold } /* Literal.String.Interpol */\n",
              ".output_html .sx { color: #008000 } /* Literal.String.Other */\n",
              ".output_html .sr { color: #BB6688 } /* Literal.String.Regex */\n",
              ".output_html .s1 { color: #BA2121 } /* Literal.String.Single */\n",
              ".output_html .ss { color: #19177C } /* Literal.String.Symbol */\n",
              ".output_html .bp { color: #008000 } /* Name.Builtin.Pseudo */\n",
              ".output_html .fm { color: #0000FF } /* Name.Function.Magic */\n",
              ".output_html .vc { color: #19177C } /* Name.Variable.Class */\n",
              ".output_html .vg { color: #19177C } /* Name.Variable.Global */\n",
              ".output_html .vi { color: #19177C } /* Name.Variable.Instance */\n",
              ".output_html .vm { color: #19177C } /* Name.Variable.Magic */\n",
              ".output_html .il { color: #666666 } /* Literal.Number.Integer.Long */</style><div class=\"highlight\"><pre><span></span>  <span class=\"k\">def</span> <span class=\"nf\">_rev_topo_sort</span><span class=\"p\">(</span><span class=\"bp\">self</span><span class=\"p\">):</span>\n",
              "    <span class=\"k\">def</span> <span class=\"nf\">traverse</span><span class=\"p\">(</span><span class=\"n\">node</span><span class=\"p\">):</span>\n",
              "      <span class=\"k\">if</span> <span class=\"n\">node</span> <span class=\"ow\">in</span> <span class=\"n\">visit</span><span class=\"p\">:</span> <span class=\"k\">return</span>\n",
              "      <span class=\"n\">visit</span><span class=\"o\">.</span><span class=\"n\">add</span><span class=\"p\">(</span><span class=\"n\">node</span><span class=\"p\">)</span>\n",
              "      <span class=\"k\">for</span> <span class=\"n\">p</span> <span class=\"ow\">in</span> <span class=\"n\">node</span><span class=\"o\">.</span><span class=\"n\">parents</span><span class=\"p\">:</span> <span class=\"n\">traverse</span><span class=\"p\">(</span><span class=\"n\">p</span><span class=\"p\">)</span>\n",
              "      <span class=\"n\">ret</span><span class=\"o\">.</span><span class=\"n\">append</span><span class=\"p\">(</span><span class=\"n\">node</span><span class=\"p\">)</span>\n",
              "\n",
              "    <span class=\"n\">visit</span> <span class=\"o\">=</span> <span class=\"nb\">set</span><span class=\"p\">();</span> <span class=\"n\">ret</span> <span class=\"o\">=</span> <span class=\"p\">[]</span>\n",
              "    <span class=\"n\">traverse</span><span class=\"p\">(</span><span class=\"bp\">self</span><span class=\"p\">)</span>\n",
              "    <span class=\"k\">return</span> <span class=\"nb\">reversed</span><span class=\"p\">(</span><span class=\"n\">ret</span><span class=\"p\">)</span>\n",
              "</pre></div>\n"
            ],
            "text/plain": [
              "  def _rev_topo_sort(self):\n",
              "    def traverse(node):\n",
              "      if node in visit: return\n",
              "      visit.add(node)\n",
              "      for p in node.parents: traverse(p)\n",
              "      ret.append(node)\n",
              "\n",
              "    visit = set(); ret = []\n",
              "    traverse(self)\n",
              "    return reversed(ret)"
            ]
          },
          "metadata": {},
          "execution_count": 25
        }
      ]
    },
    {
      "cell_type": "markdown",
      "metadata": {
        "id": "lF4uqIWPxte-"
      },
      "source": [
        "* B) **Applying the gradients**. As we now can take each node, we use its `diff` function to propagate the gradient to their parents. This can be seen in the `backward` function: "
      ]
    },
    {
      "cell_type": "code",
      "metadata": {
        "id": "3b0GY7lSxte_",
        "colab": {
          "base_uri": "https://localhost:8080/",
          "height": 102
        },
        "outputId": "e263e16b-3f8b-451a-9841-29753cb52142"
      },
      "source": [
        "show_code('backward')"
      ],
      "execution_count": null,
      "outputs": [
        {
          "output_type": "execute_result",
          "data": {
            "text/latex": "\\begin{Verbatim}[commandchars=\\\\\\{\\}]\n  \\PY{k}{def} \\PY{n+nf}{backward}\\PY{p}{(}\\PY{n+nb+bp}{self}\\PY{p}{)}\\PY{p}{:}\n    \\PY{n+nb+bp}{self}\\PY{o}{.}\\PY{n}{grad} \\PY{o}{=} \\PY{l+m+mf}{1.0} \\PY{c+c1}{\\PYZsh{} implicit gradient creation}\n    \\PY{k}{for} \\PY{n}{node} \\PY{o+ow}{in} \\PY{n+nb+bp}{self}\\PY{o}{.}\\PY{n}{\\PYZus{}rev\\PYZus{}topo\\PYZus{}sort}\\PY{p}{(}\\PY{p}{)}\\PY{p}{:}\n      \\PY{n}{gradients} \\PY{o}{=} \\PY{n}{node}\\PY{o}{.}\\PY{n}{diff}\\PY{p}{(}\\PY{n}{node}\\PY{o}{.}\\PY{n}{grad}\\PY{p}{)}\n      \\PY{k}{for} \\PY{n}{p}\\PY{p}{,} \\PY{n}{g} \\PY{o+ow}{in} \\PY{n+nb}{zip}\\PY{p}{(}\\PY{n}{node}\\PY{o}{.}\\PY{n}{parents}\\PY{p}{,} \\PY{n}{gradients}\\PY{p}{)}\\PY{p}{:} \\PY{n}{p}\\PY{o}{.}\\PY{n}{grad} \\PY{o}{+}\\PY{o}{=} \\PY{n}{g}    \n\\end{Verbatim}\n",
            "text/html": [
              "<style>.output_html .hll { background-color: #ffffcc }\n",
              ".output_html  { background: #f8f8f8; }\n",
              ".output_html .c { color: #408080; font-style: italic } /* Comment */\n",
              ".output_html .err { border: 1px solid #FF0000 } /* Error */\n",
              ".output_html .k { color: #008000; font-weight: bold } /* Keyword */\n",
              ".output_html .o { color: #666666 } /* Operator */\n",
              ".output_html .ch { color: #408080; font-style: italic } /* Comment.Hashbang */\n",
              ".output_html .cm { color: #408080; font-style: italic } /* Comment.Multiline */\n",
              ".output_html .cp { color: #BC7A00 } /* Comment.Preproc */\n",
              ".output_html .cpf { color: #408080; font-style: italic } /* Comment.PreprocFile */\n",
              ".output_html .c1 { color: #408080; font-style: italic } /* Comment.Single */\n",
              ".output_html .cs { color: #408080; font-style: italic } /* Comment.Special */\n",
              ".output_html .gd { color: #A00000 } /* Generic.Deleted */\n",
              ".output_html .ge { font-style: italic } /* Generic.Emph */\n",
              ".output_html .gr { color: #FF0000 } /* Generic.Error */\n",
              ".output_html .gh { color: #000080; font-weight: bold } /* Generic.Heading */\n",
              ".output_html .gi { color: #00A000 } /* Generic.Inserted */\n",
              ".output_html .go { color: #888888 } /* Generic.Output */\n",
              ".output_html .gp { color: #000080; font-weight: bold } /* Generic.Prompt */\n",
              ".output_html .gs { font-weight: bold } /* Generic.Strong */\n",
              ".output_html .gu { color: #800080; font-weight: bold } /* Generic.Subheading */\n",
              ".output_html .gt { color: #0044DD } /* Generic.Traceback */\n",
              ".output_html .kc { color: #008000; font-weight: bold } /* Keyword.Constant */\n",
              ".output_html .kd { color: #008000; font-weight: bold } /* Keyword.Declaration */\n",
              ".output_html .kn { color: #008000; font-weight: bold } /* Keyword.Namespace */\n",
              ".output_html .kp { color: #008000 } /* Keyword.Pseudo */\n",
              ".output_html .kr { color: #008000; font-weight: bold } /* Keyword.Reserved */\n",
              ".output_html .kt { color: #B00040 } /* Keyword.Type */\n",
              ".output_html .m { color: #666666 } /* Literal.Number */\n",
              ".output_html .s { color: #BA2121 } /* Literal.String */\n",
              ".output_html .na { color: #7D9029 } /* Name.Attribute */\n",
              ".output_html .nb { color: #008000 } /* Name.Builtin */\n",
              ".output_html .nc { color: #0000FF; font-weight: bold } /* Name.Class */\n",
              ".output_html .no { color: #880000 } /* Name.Constant */\n",
              ".output_html .nd { color: #AA22FF } /* Name.Decorator */\n",
              ".output_html .ni { color: #999999; font-weight: bold } /* Name.Entity */\n",
              ".output_html .ne { color: #D2413A; font-weight: bold } /* Name.Exception */\n",
              ".output_html .nf { color: #0000FF } /* Name.Function */\n",
              ".output_html .nl { color: #A0A000 } /* Name.Label */\n",
              ".output_html .nn { color: #0000FF; font-weight: bold } /* Name.Namespace */\n",
              ".output_html .nt { color: #008000; font-weight: bold } /* Name.Tag */\n",
              ".output_html .nv { color: #19177C } /* Name.Variable */\n",
              ".output_html .ow { color: #AA22FF; font-weight: bold } /* Operator.Word */\n",
              ".output_html .w { color: #bbbbbb } /* Text.Whitespace */\n",
              ".output_html .mb { color: #666666 } /* Literal.Number.Bin */\n",
              ".output_html .mf { color: #666666 } /* Literal.Number.Float */\n",
              ".output_html .mh { color: #666666 } /* Literal.Number.Hex */\n",
              ".output_html .mi { color: #666666 } /* Literal.Number.Integer */\n",
              ".output_html .mo { color: #666666 } /* Literal.Number.Oct */\n",
              ".output_html .sa { color: #BA2121 } /* Literal.String.Affix */\n",
              ".output_html .sb { color: #BA2121 } /* Literal.String.Backtick */\n",
              ".output_html .sc { color: #BA2121 } /* Literal.String.Char */\n",
              ".output_html .dl { color: #BA2121 } /* Literal.String.Delimiter */\n",
              ".output_html .sd { color: #BA2121; font-style: italic } /* Literal.String.Doc */\n",
              ".output_html .s2 { color: #BA2121 } /* Literal.String.Double */\n",
              ".output_html .se { color: #BB6622; font-weight: bold } /* Literal.String.Escape */\n",
              ".output_html .sh { color: #BA2121 } /* Literal.String.Heredoc */\n",
              ".output_html .si { color: #BB6688; font-weight: bold } /* Literal.String.Interpol */\n",
              ".output_html .sx { color: #008000 } /* Literal.String.Other */\n",
              ".output_html .sr { color: #BB6688 } /* Literal.String.Regex */\n",
              ".output_html .s1 { color: #BA2121 } /* Literal.String.Single */\n",
              ".output_html .ss { color: #19177C } /* Literal.String.Symbol */\n",
              ".output_html .bp { color: #008000 } /* Name.Builtin.Pseudo */\n",
              ".output_html .fm { color: #0000FF } /* Name.Function.Magic */\n",
              ".output_html .vc { color: #19177C } /* Name.Variable.Class */\n",
              ".output_html .vg { color: #19177C } /* Name.Variable.Global */\n",
              ".output_html .vi { color: #19177C } /* Name.Variable.Instance */\n",
              ".output_html .vm { color: #19177C } /* Name.Variable.Magic */\n",
              ".output_html .il { color: #666666 } /* Literal.Number.Integer.Long */</style><div class=\"highlight\"><pre><span></span>  <span class=\"k\">def</span> <span class=\"nf\">backward</span><span class=\"p\">(</span><span class=\"bp\">self</span><span class=\"p\">):</span>\n",
              "    <span class=\"bp\">self</span><span class=\"o\">.</span><span class=\"n\">grad</span> <span class=\"o\">=</span> <span class=\"mf\">1.0</span> <span class=\"c1\"># implicit gradient creation</span>\n",
              "    <span class=\"k\">for</span> <span class=\"n\">node</span> <span class=\"ow\">in</span> <span class=\"bp\">self</span><span class=\"o\">.</span><span class=\"n\">_rev_topo_sort</span><span class=\"p\">():</span>\n",
              "      <span class=\"n\">gradients</span> <span class=\"o\">=</span> <span class=\"n\">node</span><span class=\"o\">.</span><span class=\"n\">diff</span><span class=\"p\">(</span><span class=\"n\">node</span><span class=\"o\">.</span><span class=\"n\">grad</span><span class=\"p\">)</span>\n",
              "      <span class=\"k\">for</span> <span class=\"n\">p</span><span class=\"p\">,</span> <span class=\"n\">g</span> <span class=\"ow\">in</span> <span class=\"nb\">zip</span><span class=\"p\">(</span><span class=\"n\">node</span><span class=\"o\">.</span><span class=\"n\">parents</span><span class=\"p\">,</span> <span class=\"n\">gradients</span><span class=\"p\">):</span> <span class=\"n\">p</span><span class=\"o\">.</span><span class=\"n\">grad</span> <span class=\"o\">+=</span> <span class=\"n\">g</span>    \n",
              "</pre></div>\n"
            ],
            "text/plain": [
              "  def backward(self):\n",
              "    self.grad = 1.0 # implicit gradient creation\n",
              "    for node in self._rev_topo_sort():\n",
              "      gradients = node.diff(node.grad)\n",
              "      for p, g in zip(node.parents, gradients): p.grad += g    "
            ]
          },
          "metadata": {},
          "execution_count": 26
        }
      ]
    },
    {
      "cell_type": "markdown",
      "metadata": {
        "id": "VCycP6BZxte_"
      },
      "source": [
        "We start with a `gradient=1` (since we've done the ordering correctly in `_rev_topo_sort`, `self == nodes[0]`), and for each node we update their parents' cumulated gradient. \n",
        "\n",
        "The mathematical pseudocode of what is being computed at each iteration in the outter loop is:\n",
        "\n",
        "```\n",
        "for ...:\n",
        "\n",
        "    dc/da, dc/db = c.diff(dJ/dc)\n",
        "\n",
        "    a.grad += dc/da\n",
        "    b.grad += dc/db\n",
        "```\n",
        "\n",
        "where of course a node can have two parents, one parent or no parents.\n",
        "\n",
        "Let's run the example from above again using `fauxgrad` and see the results:"
      ]
    },
    {
      "cell_type": "code",
      "metadata": {
        "id": "3H_AIlMQvvNK",
        "colab": {
          "base_uri": "https://localhost:8080/"
        },
        "outputId": "8bdb9efc-221e-479b-cf3d-9a90dbbbcf8d"
      },
      "source": [
        "a = Value(5)\n",
        "b = Value(-3)\n",
        "c = a * b\n",
        "d = a + c\n",
        "e = d * 2\n",
        "e.backward()\n",
        "\n",
        "print(f'The derivative that we computed before, de/da = {a.grad}')\n",
        "print(f'and de/db = {b.grad}')"
      ],
      "execution_count": null,
      "outputs": [
        {
          "output_type": "stream",
          "name": "stdout",
          "text": [
            "The derivative that we computed before, de/da = -4.0\n",
            "and de/db = 10.0\n"
          ]
        }
      ]
    },
    {
      "cell_type": "markdown",
      "metadata": {
        "id": "89y_6DtpN7Rj"
      },
      "source": [
        "and we can see the backward flow of the computaional graph:\n",
        "\n",
        "<p align=\"center\">\n",
        "  <img src=\"https://user-images.githubusercontent.com/12011058/133015096-5dd6fd1d-686d-4813-999c-563848a5c58c.png\" width=\"700px\"/>\n",
        "\n",
        "</p>"
      ]
    },
    {
      "cell_type": "markdown",
      "metadata": {
        "id": "4R4BvJTyxte_"
      },
      "source": [
        "<a name=\"func\"/></a>\n",
        "## 1.4. Other Functions"
      ]
    },
    {
      "cell_type": "markdown",
      "metadata": {
        "id": "Op25AZMCxte_"
      },
      "source": [
        "We implement three more functions for our `Value` class in order to be able to run the demo in section [2.](#demo). First we can see the `relu`:"
      ]
    },
    {
      "cell_type": "code",
      "metadata": {
        "id": "RJh6sYn7xte_",
        "colab": {
          "base_uri": "https://localhost:8080/",
          "height": 85
        },
        "outputId": "bb3e5688-ee05-4eb8-ae7c-4d92056afed6"
      },
      "source": [
        "show_code('relu')"
      ],
      "execution_count": null,
      "outputs": [
        {
          "output_type": "execute_result",
          "data": {
            "text/latex": "\\begin{Verbatim}[commandchars=\\\\\\{\\}]\n  \\PY{k}{def} \\PY{n+nf}{relu}\\PY{p}{(}\\PY{n+nb+bp}{self}\\PY{p}{)}\\PY{p}{:}\n    \\PY{n}{ret} \\PY{o}{=} \\PY{n}{Value}\\PY{p}{(}\\PY{n+nb}{max}\\PY{p}{(}\\PY{l+m+mi}{0}\\PY{p}{,} \\PY{n+nb+bp}{self}\\PY{o}{.}\\PY{n}{val}\\PY{p}{)}\\PY{p}{,} \\PY{n}{parents}\\PY{o}{=}\\PY{p}{[}\\PY{n+nb+bp}{self}\\PY{p}{]}\\PY{p}{)}\n    \\PY{n}{ret}\\PY{o}{.}\\PY{n}{diff} \\PY{o}{=} \\PY{k}{lambda} \\PY{n}{grad}\\PY{p}{:} \\PY{p}{[}\\PY{n}{grad} \\PY{o}{*} \\PY{p}{(}\\PY{n+nb+bp}{self}\\PY{o}{.}\\PY{n}{val} \\PY{o}{\\PYZgt{}} \\PY{l+m+mi}{0}\\PY{p}{)}\\PY{p}{]}\n    \\PY{k}{return} \\PY{n}{ret}\n\\end{Verbatim}\n",
            "text/html": [
              "<style>.output_html .hll { background-color: #ffffcc }\n",
              ".output_html  { background: #f8f8f8; }\n",
              ".output_html .c { color: #408080; font-style: italic } /* Comment */\n",
              ".output_html .err { border: 1px solid #FF0000 } /* Error */\n",
              ".output_html .k { color: #008000; font-weight: bold } /* Keyword */\n",
              ".output_html .o { color: #666666 } /* Operator */\n",
              ".output_html .ch { color: #408080; font-style: italic } /* Comment.Hashbang */\n",
              ".output_html .cm { color: #408080; font-style: italic } /* Comment.Multiline */\n",
              ".output_html .cp { color: #BC7A00 } /* Comment.Preproc */\n",
              ".output_html .cpf { color: #408080; font-style: italic } /* Comment.PreprocFile */\n",
              ".output_html .c1 { color: #408080; font-style: italic } /* Comment.Single */\n",
              ".output_html .cs { color: #408080; font-style: italic } /* Comment.Special */\n",
              ".output_html .gd { color: #A00000 } /* Generic.Deleted */\n",
              ".output_html .ge { font-style: italic } /* Generic.Emph */\n",
              ".output_html .gr { color: #FF0000 } /* Generic.Error */\n",
              ".output_html .gh { color: #000080; font-weight: bold } /* Generic.Heading */\n",
              ".output_html .gi { color: #00A000 } /* Generic.Inserted */\n",
              ".output_html .go { color: #888888 } /* Generic.Output */\n",
              ".output_html .gp { color: #000080; font-weight: bold } /* Generic.Prompt */\n",
              ".output_html .gs { font-weight: bold } /* Generic.Strong */\n",
              ".output_html .gu { color: #800080; font-weight: bold } /* Generic.Subheading */\n",
              ".output_html .gt { color: #0044DD } /* Generic.Traceback */\n",
              ".output_html .kc { color: #008000; font-weight: bold } /* Keyword.Constant */\n",
              ".output_html .kd { color: #008000; font-weight: bold } /* Keyword.Declaration */\n",
              ".output_html .kn { color: #008000; font-weight: bold } /* Keyword.Namespace */\n",
              ".output_html .kp { color: #008000 } /* Keyword.Pseudo */\n",
              ".output_html .kr { color: #008000; font-weight: bold } /* Keyword.Reserved */\n",
              ".output_html .kt { color: #B00040 } /* Keyword.Type */\n",
              ".output_html .m { color: #666666 } /* Literal.Number */\n",
              ".output_html .s { color: #BA2121 } /* Literal.String */\n",
              ".output_html .na { color: #7D9029 } /* Name.Attribute */\n",
              ".output_html .nb { color: #008000 } /* Name.Builtin */\n",
              ".output_html .nc { color: #0000FF; font-weight: bold } /* Name.Class */\n",
              ".output_html .no { color: #880000 } /* Name.Constant */\n",
              ".output_html .nd { color: #AA22FF } /* Name.Decorator */\n",
              ".output_html .ni { color: #999999; font-weight: bold } /* Name.Entity */\n",
              ".output_html .ne { color: #D2413A; font-weight: bold } /* Name.Exception */\n",
              ".output_html .nf { color: #0000FF } /* Name.Function */\n",
              ".output_html .nl { color: #A0A000 } /* Name.Label */\n",
              ".output_html .nn { color: #0000FF; font-weight: bold } /* Name.Namespace */\n",
              ".output_html .nt { color: #008000; font-weight: bold } /* Name.Tag */\n",
              ".output_html .nv { color: #19177C } /* Name.Variable */\n",
              ".output_html .ow { color: #AA22FF; font-weight: bold } /* Operator.Word */\n",
              ".output_html .w { color: #bbbbbb } /* Text.Whitespace */\n",
              ".output_html .mb { color: #666666 } /* Literal.Number.Bin */\n",
              ".output_html .mf { color: #666666 } /* Literal.Number.Float */\n",
              ".output_html .mh { color: #666666 } /* Literal.Number.Hex */\n",
              ".output_html .mi { color: #666666 } /* Literal.Number.Integer */\n",
              ".output_html .mo { color: #666666 } /* Literal.Number.Oct */\n",
              ".output_html .sa { color: #BA2121 } /* Literal.String.Affix */\n",
              ".output_html .sb { color: #BA2121 } /* Literal.String.Backtick */\n",
              ".output_html .sc { color: #BA2121 } /* Literal.String.Char */\n",
              ".output_html .dl { color: #BA2121 } /* Literal.String.Delimiter */\n",
              ".output_html .sd { color: #BA2121; font-style: italic } /* Literal.String.Doc */\n",
              ".output_html .s2 { color: #BA2121 } /* Literal.String.Double */\n",
              ".output_html .se { color: #BB6622; font-weight: bold } /* Literal.String.Escape */\n",
              ".output_html .sh { color: #BA2121 } /* Literal.String.Heredoc */\n",
              ".output_html .si { color: #BB6688; font-weight: bold } /* Literal.String.Interpol */\n",
              ".output_html .sx { color: #008000 } /* Literal.String.Other */\n",
              ".output_html .sr { color: #BB6688 } /* Literal.String.Regex */\n",
              ".output_html .s1 { color: #BA2121 } /* Literal.String.Single */\n",
              ".output_html .ss { color: #19177C } /* Literal.String.Symbol */\n",
              ".output_html .bp { color: #008000 } /* Name.Builtin.Pseudo */\n",
              ".output_html .fm { color: #0000FF } /* Name.Function.Magic */\n",
              ".output_html .vc { color: #19177C } /* Name.Variable.Class */\n",
              ".output_html .vg { color: #19177C } /* Name.Variable.Global */\n",
              ".output_html .vi { color: #19177C } /* Name.Variable.Instance */\n",
              ".output_html .vm { color: #19177C } /* Name.Variable.Magic */\n",
              ".output_html .il { color: #666666 } /* Literal.Number.Integer.Long */</style><div class=\"highlight\"><pre><span></span>  <span class=\"k\">def</span> <span class=\"nf\">relu</span><span class=\"p\">(</span><span class=\"bp\">self</span><span class=\"p\">):</span>\n",
              "    <span class=\"n\">ret</span> <span class=\"o\">=</span> <span class=\"n\">Value</span><span class=\"p\">(</span><span class=\"nb\">max</span><span class=\"p\">(</span><span class=\"mi\">0</span><span class=\"p\">,</span> <span class=\"bp\">self</span><span class=\"o\">.</span><span class=\"n\">val</span><span class=\"p\">),</span> <span class=\"n\">parents</span><span class=\"o\">=</span><span class=\"p\">[</span><span class=\"bp\">self</span><span class=\"p\">])</span>\n",
              "    <span class=\"n\">ret</span><span class=\"o\">.</span><span class=\"n\">diff</span> <span class=\"o\">=</span> <span class=\"k\">lambda</span> <span class=\"n\">grad</span><span class=\"p\">:</span> <span class=\"p\">[</span><span class=\"n\">grad</span> <span class=\"o\">*</span> <span class=\"p\">(</span><span class=\"bp\">self</span><span class=\"o\">.</span><span class=\"n\">val</span> <span class=\"o\">&gt;</span> <span class=\"mi\">0</span><span class=\"p\">)]</span>\n",
              "    <span class=\"k\">return</span> <span class=\"n\">ret</span>\n",
              "</pre></div>\n"
            ],
            "text/plain": [
              "  def relu(self):\n",
              "    ret = Value(max(0, self.val), parents=[self])\n",
              "    ret.diff = lambda grad: [grad * (self.val > 0)]\n",
              "    return ret"
            ]
          },
          "metadata": {},
          "execution_count": 28
        }
      ]
    },
    {
      "cell_type": "markdown",
      "metadata": {
        "id": "JuxD6m3hxte_"
      },
      "source": [
        "Unlike `__add__` and `__mul__`, `relu` only has one parent (the `Value` the `relu` was applied to). As we're going to solve a binary classification problem, we'll also use a `sigmoid` activation for the final layer:"
      ]
    },
    {
      "cell_type": "code",
      "metadata": {
        "id": "y6ArxW1gxte_",
        "colab": {
          "base_uri": "https://localhost:8080/",
          "height": 102
        },
        "outputId": "425b909c-c423-4f92-f10e-799958dc210b"
      },
      "source": [
        "show_code('sigmoid')"
      ],
      "execution_count": null,
      "outputs": [
        {
          "output_type": "execute_result",
          "data": {
            "text/latex": "\\begin{Verbatim}[commandchars=\\\\\\{\\}]\n  \\PY{k}{def} \\PY{n+nf}{sigmoid}\\PY{p}{(}\\PY{n+nb+bp}{self}\\PY{p}{)}\\PY{p}{:}\n    \\PY{n}{\\PYZus{}sigmoid} \\PY{o}{=} \\PY{k}{lambda} \\PY{n}{x}\\PY{p}{:} \\PY{l+m+mi}{1}\\PY{o}{/}\\PY{p}{(}\\PY{l+m+mi}{1} \\PY{o}{+} \\PY{n}{math}\\PY{o}{.}\\PY{n}{exp}\\PY{p}{(}\\PY{o}{\\PYZhy{}}\\PY{n}{x}\\PY{p}{)}\\PY{p}{)}\n    \\PY{n}{ret} \\PY{o}{=} \\PY{n}{Value}\\PY{p}{(}\\PY{n}{\\PYZus{}sigmoid}\\PY{p}{(}\\PY{n+nb+bp}{self}\\PY{o}{.}\\PY{n}{val}\\PY{p}{)}\\PY{p}{,} \\PY{n}{parents}\\PY{o}{=}\\PY{p}{[}\\PY{n+nb+bp}{self}\\PY{p}{]}\\PY{p}{)}\n    \\PY{n}{ret}\\PY{o}{.}\\PY{n}{diff} \\PY{o}{=} \\PY{k}{lambda} \\PY{n}{grad}\\PY{p}{:} \\PY{p}{[}\\PY{n}{grad} \\PY{o}{*} \\PY{p}{(}\\PY{l+m+mi}{1}\\PY{o}{\\PYZhy{}}\\PY{n}{\\PYZus{}sigmoid}\\PY{p}{(}\\PY{n+nb+bp}{self}\\PY{o}{.}\\PY{n}{val}\\PY{p}{)}\\PY{p}{)}\\PY{o}{*}\\PY{n}{\\PYZus{}sigmoid}\\PY{p}{(}\\PY{n+nb+bp}{self}\\PY{o}{.}\\PY{n}{val}\\PY{p}{)}\\PY{p}{]}\n    \\PY{k}{return} \\PY{n}{ret}\n\\end{Verbatim}\n",
            "text/html": [
              "<style>.output_html .hll { background-color: #ffffcc }\n",
              ".output_html  { background: #f8f8f8; }\n",
              ".output_html .c { color: #408080; font-style: italic } /* Comment */\n",
              ".output_html .err { border: 1px solid #FF0000 } /* Error */\n",
              ".output_html .k { color: #008000; font-weight: bold } /* Keyword */\n",
              ".output_html .o { color: #666666 } /* Operator */\n",
              ".output_html .ch { color: #408080; font-style: italic } /* Comment.Hashbang */\n",
              ".output_html .cm { color: #408080; font-style: italic } /* Comment.Multiline */\n",
              ".output_html .cp { color: #BC7A00 } /* Comment.Preproc */\n",
              ".output_html .cpf { color: #408080; font-style: italic } /* Comment.PreprocFile */\n",
              ".output_html .c1 { color: #408080; font-style: italic } /* Comment.Single */\n",
              ".output_html .cs { color: #408080; font-style: italic } /* Comment.Special */\n",
              ".output_html .gd { color: #A00000 } /* Generic.Deleted */\n",
              ".output_html .ge { font-style: italic } /* Generic.Emph */\n",
              ".output_html .gr { color: #FF0000 } /* Generic.Error */\n",
              ".output_html .gh { color: #000080; font-weight: bold } /* Generic.Heading */\n",
              ".output_html .gi { color: #00A000 } /* Generic.Inserted */\n",
              ".output_html .go { color: #888888 } /* Generic.Output */\n",
              ".output_html .gp { color: #000080; font-weight: bold } /* Generic.Prompt */\n",
              ".output_html .gs { font-weight: bold } /* Generic.Strong */\n",
              ".output_html .gu { color: #800080; font-weight: bold } /* Generic.Subheading */\n",
              ".output_html .gt { color: #0044DD } /* Generic.Traceback */\n",
              ".output_html .kc { color: #008000; font-weight: bold } /* Keyword.Constant */\n",
              ".output_html .kd { color: #008000; font-weight: bold } /* Keyword.Declaration */\n",
              ".output_html .kn { color: #008000; font-weight: bold } /* Keyword.Namespace */\n",
              ".output_html .kp { color: #008000 } /* Keyword.Pseudo */\n",
              ".output_html .kr { color: #008000; font-weight: bold } /* Keyword.Reserved */\n",
              ".output_html .kt { color: #B00040 } /* Keyword.Type */\n",
              ".output_html .m { color: #666666 } /* Literal.Number */\n",
              ".output_html .s { color: #BA2121 } /* Literal.String */\n",
              ".output_html .na { color: #7D9029 } /* Name.Attribute */\n",
              ".output_html .nb { color: #008000 } /* Name.Builtin */\n",
              ".output_html .nc { color: #0000FF; font-weight: bold } /* Name.Class */\n",
              ".output_html .no { color: #880000 } /* Name.Constant */\n",
              ".output_html .nd { color: #AA22FF } /* Name.Decorator */\n",
              ".output_html .ni { color: #999999; font-weight: bold } /* Name.Entity */\n",
              ".output_html .ne { color: #D2413A; font-weight: bold } /* Name.Exception */\n",
              ".output_html .nf { color: #0000FF } /* Name.Function */\n",
              ".output_html .nl { color: #A0A000 } /* Name.Label */\n",
              ".output_html .nn { color: #0000FF; font-weight: bold } /* Name.Namespace */\n",
              ".output_html .nt { color: #008000; font-weight: bold } /* Name.Tag */\n",
              ".output_html .nv { color: #19177C } /* Name.Variable */\n",
              ".output_html .ow { color: #AA22FF; font-weight: bold } /* Operator.Word */\n",
              ".output_html .w { color: #bbbbbb } /* Text.Whitespace */\n",
              ".output_html .mb { color: #666666 } /* Literal.Number.Bin */\n",
              ".output_html .mf { color: #666666 } /* Literal.Number.Float */\n",
              ".output_html .mh { color: #666666 } /* Literal.Number.Hex */\n",
              ".output_html .mi { color: #666666 } /* Literal.Number.Integer */\n",
              ".output_html .mo { color: #666666 } /* Literal.Number.Oct */\n",
              ".output_html .sa { color: #BA2121 } /* Literal.String.Affix */\n",
              ".output_html .sb { color: #BA2121 } /* Literal.String.Backtick */\n",
              ".output_html .sc { color: #BA2121 } /* Literal.String.Char */\n",
              ".output_html .dl { color: #BA2121 } /* Literal.String.Delimiter */\n",
              ".output_html .sd { color: #BA2121; font-style: italic } /* Literal.String.Doc */\n",
              ".output_html .s2 { color: #BA2121 } /* Literal.String.Double */\n",
              ".output_html .se { color: #BB6622; font-weight: bold } /* Literal.String.Escape */\n",
              ".output_html .sh { color: #BA2121 } /* Literal.String.Heredoc */\n",
              ".output_html .si { color: #BB6688; font-weight: bold } /* Literal.String.Interpol */\n",
              ".output_html .sx { color: #008000 } /* Literal.String.Other */\n",
              ".output_html .sr { color: #BB6688 } /* Literal.String.Regex */\n",
              ".output_html .s1 { color: #BA2121 } /* Literal.String.Single */\n",
              ".output_html .ss { color: #19177C } /* Literal.String.Symbol */\n",
              ".output_html .bp { color: #008000 } /* Name.Builtin.Pseudo */\n",
              ".output_html .fm { color: #0000FF } /* Name.Function.Magic */\n",
              ".output_html .vc { color: #19177C } /* Name.Variable.Class */\n",
              ".output_html .vg { color: #19177C } /* Name.Variable.Global */\n",
              ".output_html .vi { color: #19177C } /* Name.Variable.Instance */\n",
              ".output_html .vm { color: #19177C } /* Name.Variable.Magic */\n",
              ".output_html .il { color: #666666 } /* Literal.Number.Integer.Long */</style><div class=\"highlight\"><pre><span></span>  <span class=\"k\">def</span> <span class=\"nf\">sigmoid</span><span class=\"p\">(</span><span class=\"bp\">self</span><span class=\"p\">):</span>\n",
              "    <span class=\"n\">_sigmoid</span> <span class=\"o\">=</span> <span class=\"k\">lambda</span> <span class=\"n\">x</span><span class=\"p\">:</span> <span class=\"mi\">1</span><span class=\"o\">/</span><span class=\"p\">(</span><span class=\"mi\">1</span> <span class=\"o\">+</span> <span class=\"n\">math</span><span class=\"o\">.</span><span class=\"n\">exp</span><span class=\"p\">(</span><span class=\"o\">-</span><span class=\"n\">x</span><span class=\"p\">))</span>\n",
              "    <span class=\"n\">ret</span> <span class=\"o\">=</span> <span class=\"n\">Value</span><span class=\"p\">(</span><span class=\"n\">_sigmoid</span><span class=\"p\">(</span><span class=\"bp\">self</span><span class=\"o\">.</span><span class=\"n\">val</span><span class=\"p\">),</span> <span class=\"n\">parents</span><span class=\"o\">=</span><span class=\"p\">[</span><span class=\"bp\">self</span><span class=\"p\">])</span>\n",
              "    <span class=\"n\">ret</span><span class=\"o\">.</span><span class=\"n\">diff</span> <span class=\"o\">=</span> <span class=\"k\">lambda</span> <span class=\"n\">grad</span><span class=\"p\">:</span> <span class=\"p\">[</span><span class=\"n\">grad</span> <span class=\"o\">*</span> <span class=\"p\">(</span><span class=\"mi\">1</span><span class=\"o\">-</span><span class=\"n\">_sigmoid</span><span class=\"p\">(</span><span class=\"bp\">self</span><span class=\"o\">.</span><span class=\"n\">val</span><span class=\"p\">))</span><span class=\"o\">*</span><span class=\"n\">_sigmoid</span><span class=\"p\">(</span><span class=\"bp\">self</span><span class=\"o\">.</span><span class=\"n\">val</span><span class=\"p\">)]</span>\n",
              "    <span class=\"k\">return</span> <span class=\"n\">ret</span>\n",
              "</pre></div>\n"
            ],
            "text/plain": [
              "  def sigmoid(self):\n",
              "    _sigmoid = lambda x: 1/(1 + math.exp(-x))\n",
              "    ret = Value(_sigmoid(self.val), parents=[self])\n",
              "    ret.diff = lambda grad: [grad * (1-_sigmoid(self.val))*_sigmoid(self.val)]\n",
              "    return ret"
            ]
          },
          "metadata": {},
          "execution_count": 29
        }
      ]
    },
    {
      "cell_type": "markdown",
      "metadata": {
        "id": "MpCgqAxcxte_"
      },
      "source": [
        "Here making use of $\\sigma(x)'=\\sigma(x) * (1 - \\sigma(x))$. Finally, for the implementation of our [cross entropy](https://en.wikipedia.org/wiki/Cross_entropy) loss function, we'll also need the `log`:"
      ]
    },
    {
      "cell_type": "code",
      "metadata": {
        "id": "Ppf8vfnExtfA",
        "colab": {
          "base_uri": "https://localhost:8080/",
          "height": 85
        },
        "outputId": "10c133db-3dfe-4d4b-f1d6-8e801f21c1ea"
      },
      "source": [
        "show_code('log')"
      ],
      "execution_count": null,
      "outputs": [
        {
          "output_type": "execute_result",
          "data": {
            "text/latex": "\\begin{Verbatim}[commandchars=\\\\\\{\\}]\n  \\PY{k}{def} \\PY{n+nf}{log}\\PY{p}{(}\\PY{n+nb+bp}{self}\\PY{p}{)}\\PY{p}{:}\n    \\PY{n}{ret} \\PY{o}{=} \\PY{n}{Value}\\PY{p}{(}\\PY{n}{math}\\PY{o}{.}\\PY{n}{log}\\PY{p}{(}\\PY{n+nb+bp}{self}\\PY{o}{.}\\PY{n}{val}\\PY{p}{)}\\PY{p}{,} \\PY{n}{parents}\\PY{o}{=}\\PY{p}{[}\\PY{n+nb+bp}{self}\\PY{p}{]}\\PY{p}{)}\n    \\PY{n}{ret}\\PY{o}{.}\\PY{n}{diff} \\PY{o}{=} \\PY{k}{lambda} \\PY{n}{grad}\\PY{p}{:} \\PY{p}{[}\\PY{n}{grad} \\PY{o}{*} \\PY{p}{(}\\PY{l+m+mi}{1}\\PY{o}{/}\\PY{n+nb+bp}{self}\\PY{o}{.}\\PY{n}{val}\\PY{p}{)}\\PY{p}{]}\n    \\PY{k}{return} \\PY{n}{ret}\n\\end{Verbatim}\n",
            "text/html": [
              "<style>.output_html .hll { background-color: #ffffcc }\n",
              ".output_html  { background: #f8f8f8; }\n",
              ".output_html .c { color: #408080; font-style: italic } /* Comment */\n",
              ".output_html .err { border: 1px solid #FF0000 } /* Error */\n",
              ".output_html .k { color: #008000; font-weight: bold } /* Keyword */\n",
              ".output_html .o { color: #666666 } /* Operator */\n",
              ".output_html .ch { color: #408080; font-style: italic } /* Comment.Hashbang */\n",
              ".output_html .cm { color: #408080; font-style: italic } /* Comment.Multiline */\n",
              ".output_html .cp { color: #BC7A00 } /* Comment.Preproc */\n",
              ".output_html .cpf { color: #408080; font-style: italic } /* Comment.PreprocFile */\n",
              ".output_html .c1 { color: #408080; font-style: italic } /* Comment.Single */\n",
              ".output_html .cs { color: #408080; font-style: italic } /* Comment.Special */\n",
              ".output_html .gd { color: #A00000 } /* Generic.Deleted */\n",
              ".output_html .ge { font-style: italic } /* Generic.Emph */\n",
              ".output_html .gr { color: #FF0000 } /* Generic.Error */\n",
              ".output_html .gh { color: #000080; font-weight: bold } /* Generic.Heading */\n",
              ".output_html .gi { color: #00A000 } /* Generic.Inserted */\n",
              ".output_html .go { color: #888888 } /* Generic.Output */\n",
              ".output_html .gp { color: #000080; font-weight: bold } /* Generic.Prompt */\n",
              ".output_html .gs { font-weight: bold } /* Generic.Strong */\n",
              ".output_html .gu { color: #800080; font-weight: bold } /* Generic.Subheading */\n",
              ".output_html .gt { color: #0044DD } /* Generic.Traceback */\n",
              ".output_html .kc { color: #008000; font-weight: bold } /* Keyword.Constant */\n",
              ".output_html .kd { color: #008000; font-weight: bold } /* Keyword.Declaration */\n",
              ".output_html .kn { color: #008000; font-weight: bold } /* Keyword.Namespace */\n",
              ".output_html .kp { color: #008000 } /* Keyword.Pseudo */\n",
              ".output_html .kr { color: #008000; font-weight: bold } /* Keyword.Reserved */\n",
              ".output_html .kt { color: #B00040 } /* Keyword.Type */\n",
              ".output_html .m { color: #666666 } /* Literal.Number */\n",
              ".output_html .s { color: #BA2121 } /* Literal.String */\n",
              ".output_html .na { color: #7D9029 } /* Name.Attribute */\n",
              ".output_html .nb { color: #008000 } /* Name.Builtin */\n",
              ".output_html .nc { color: #0000FF; font-weight: bold } /* Name.Class */\n",
              ".output_html .no { color: #880000 } /* Name.Constant */\n",
              ".output_html .nd { color: #AA22FF } /* Name.Decorator */\n",
              ".output_html .ni { color: #999999; font-weight: bold } /* Name.Entity */\n",
              ".output_html .ne { color: #D2413A; font-weight: bold } /* Name.Exception */\n",
              ".output_html .nf { color: #0000FF } /* Name.Function */\n",
              ".output_html .nl { color: #A0A000 } /* Name.Label */\n",
              ".output_html .nn { color: #0000FF; font-weight: bold } /* Name.Namespace */\n",
              ".output_html .nt { color: #008000; font-weight: bold } /* Name.Tag */\n",
              ".output_html .nv { color: #19177C } /* Name.Variable */\n",
              ".output_html .ow { color: #AA22FF; font-weight: bold } /* Operator.Word */\n",
              ".output_html .w { color: #bbbbbb } /* Text.Whitespace */\n",
              ".output_html .mb { color: #666666 } /* Literal.Number.Bin */\n",
              ".output_html .mf { color: #666666 } /* Literal.Number.Float */\n",
              ".output_html .mh { color: #666666 } /* Literal.Number.Hex */\n",
              ".output_html .mi { color: #666666 } /* Literal.Number.Integer */\n",
              ".output_html .mo { color: #666666 } /* Literal.Number.Oct */\n",
              ".output_html .sa { color: #BA2121 } /* Literal.String.Affix */\n",
              ".output_html .sb { color: #BA2121 } /* Literal.String.Backtick */\n",
              ".output_html .sc { color: #BA2121 } /* Literal.String.Char */\n",
              ".output_html .dl { color: #BA2121 } /* Literal.String.Delimiter */\n",
              ".output_html .sd { color: #BA2121; font-style: italic } /* Literal.String.Doc */\n",
              ".output_html .s2 { color: #BA2121 } /* Literal.String.Double */\n",
              ".output_html .se { color: #BB6622; font-weight: bold } /* Literal.String.Escape */\n",
              ".output_html .sh { color: #BA2121 } /* Literal.String.Heredoc */\n",
              ".output_html .si { color: #BB6688; font-weight: bold } /* Literal.String.Interpol */\n",
              ".output_html .sx { color: #008000 } /* Literal.String.Other */\n",
              ".output_html .sr { color: #BB6688 } /* Literal.String.Regex */\n",
              ".output_html .s1 { color: #BA2121 } /* Literal.String.Single */\n",
              ".output_html .ss { color: #19177C } /* Literal.String.Symbol */\n",
              ".output_html .bp { color: #008000 } /* Name.Builtin.Pseudo */\n",
              ".output_html .fm { color: #0000FF } /* Name.Function.Magic */\n",
              ".output_html .vc { color: #19177C } /* Name.Variable.Class */\n",
              ".output_html .vg { color: #19177C } /* Name.Variable.Global */\n",
              ".output_html .vi { color: #19177C } /* Name.Variable.Instance */\n",
              ".output_html .vm { color: #19177C } /* Name.Variable.Magic */\n",
              ".output_html .il { color: #666666 } /* Literal.Number.Integer.Long */</style><div class=\"highlight\"><pre><span></span>  <span class=\"k\">def</span> <span class=\"nf\">log</span><span class=\"p\">(</span><span class=\"bp\">self</span><span class=\"p\">):</span>\n",
              "    <span class=\"n\">ret</span> <span class=\"o\">=</span> <span class=\"n\">Value</span><span class=\"p\">(</span><span class=\"n\">math</span><span class=\"o\">.</span><span class=\"n\">log</span><span class=\"p\">(</span><span class=\"bp\">self</span><span class=\"o\">.</span><span class=\"n\">val</span><span class=\"p\">),</span> <span class=\"n\">parents</span><span class=\"o\">=</span><span class=\"p\">[</span><span class=\"bp\">self</span><span class=\"p\">])</span>\n",
              "    <span class=\"n\">ret</span><span class=\"o\">.</span><span class=\"n\">diff</span> <span class=\"o\">=</span> <span class=\"k\">lambda</span> <span class=\"n\">grad</span><span class=\"p\">:</span> <span class=\"p\">[</span><span class=\"n\">grad</span> <span class=\"o\">*</span> <span class=\"p\">(</span><span class=\"mi\">1</span><span class=\"o\">/</span><span class=\"bp\">self</span><span class=\"o\">.</span><span class=\"n\">val</span><span class=\"p\">)]</span>\n",
              "    <span class=\"k\">return</span> <span class=\"n\">ret</span>\n",
              "</pre></div>\n"
            ],
            "text/plain": [
              "  def log(self):\n",
              "    ret = Value(math.log(self.val), parents=[self])\n",
              "    ret.diff = lambda grad: [grad * (1/self.val)]\n",
              "    return ret"
            ]
          },
          "metadata": {},
          "execution_count": 30
        }
      ]
    },
    {
      "cell_type": "markdown",
      "metadata": {
        "id": "bk9Yqi9extfA"
      },
      "source": [
        "Implementing all these function follows the same procedure, and extending this to `__pow__`, `__sub__` would follow the same. \n",
        "\n",
        "With a bit of helper code, we now can move on to using this minimal engine to train a neural network! "
      ]
    },
    {
      "cell_type": "markdown",
      "metadata": {
        "id": "pxJZ92TyMAS4"
      },
      "source": [
        "<a name=\"demo\"/></a>\n",
        "# Using `fauxgrad` to train a Neural Net for binary classification "
      ]
    },
    {
      "cell_type": "code",
      "metadata": {
        "id": "Uv36xWWbMc3f"
      },
      "source": [
        "import matplotlib.pyplot as plt\n",
        "import numpy as np"
      ],
      "execution_count": null,
      "outputs": []
    },
    {
      "cell_type": "code",
      "metadata": {
        "id": "zz5ZNXoKMjJ5",
        "colab": {
          "base_uri": "https://localhost:8080/",
          "height": 411
        },
        "outputId": "37fb3610-ce26-41fe-cd99-5a3c2f818ad4"
      },
      "source": [
        "# collect 2d toy data of a donut in a donut\n",
        "from fauxgrad.utils import generate_circles, visualize_plot\n",
        "X, Y = generate_circles(num_samples=1600)\n",
        "\n",
        "# Let's display the data\n",
        "plt.figure(figsize=(10,7))\n",
        "plt.scatter(X[:,0], X[:,1], c=np.squeeze(Y), cmap='plasma', s=100, alpha=0.7)\n",
        "ax = plt.gca()\n",
        "ax.set_facecolor((0.95, 0.95, 0.95)); plt.axis('off'); plt.show()"
      ],
      "execution_count": null,
      "outputs": [
        {
          "output_type": "display_data",
          "data": {
            "image/png": "[encoded data removed]",
            "text/plain": [
              "<Figure size 720x504 with 1 Axes>"
            ]
          },
          "metadata": {
            "needs_background": "light"
          }
        }
      ]
    },
    {
      "cell_type": "code",
      "metadata": {
        "id": "GKHXf1pLMkoH"
      },
      "source": [
        "# Linear simply implements `List[Value]` based matrix multiplication with a choice of activation\n",
        "# the gradients will be computed automatically!\n",
        "from fauxgrad import Linear, cross_entropy\n",
        "\n",
        "class MyNet:\n",
        "    \n",
        "    def __init__(self, hidden_size=12):\n",
        "        self.l1 = Linear(2, hidden_size, 'relu')\n",
        "        self.l2 = Linear(hidden_size, 1, 'sigmoid')\n",
        "        \n",
        "    def __call__(self, x):\n",
        "        x = self.l1(x)\n",
        "        x = self.l2(x)\n",
        "        return x\n",
        "\n",
        "    def parameters(self):\n",
        "        return self.l1.parameters() + self.l2.parameters()\n"
      ],
      "execution_count": null,
      "outputs": []
    },
    {
      "cell_type": "code",
      "metadata": {
        "id": "5DbV4J3GMm08"
      },
      "source": [
        "# SGD will just loop over the flattened parameters that were passed to it,\n",
        "# and for each one compute the update `p.val -= lr * p.grad`\n",
        "from fauxgrad.optim import SGD\n",
        "\n",
        "m = MyNet()\n",
        "\n",
        "data = X.reshape(100, 16, 2) \n",
        "labels = Y.reshape(100, 16)\n",
        "\n",
        "epochs = 14\n",
        "lr = 0.001\n",
        "opt = SGD(m.parameters(), lr=lr)\n",
        "\n",
        "for epoch in range(1, epochs+1):\n",
        "    losses = []; accs = []\n",
        "    \n",
        "    for i in range(data.shape[0]):\n",
        "        x = [[Value(d[0]), Value(d[1])] for d in data[i]]\n",
        "\n",
        "        opt.zero_grad()\n",
        "        yhat = [m(datum)[0] for datum in x]\n",
        "\n",
        "        loss = cross_entropy(yhat, labels[i])\n",
        "        loss.backward()\n",
        "        \n",
        "        losses.append(loss.val)\n",
        "        accs.extend([int(y.val>0.5)==l for y, l in zip(yhat, labels[i])])\n",
        "\n",
        "        opt.step()\n",
        "    title = 'Epoch %d, Loss %.3f; Acc %.1f%%'%(epoch,\n",
        "                                               sum(losses)/len(losses), \n",
        "                                               100*sum(accs)/len(accs))\n",
        "    visualize_plot(X, Y, m, title=title)"
      ],
      "execution_count": null,
      "outputs": []
    }
  ]
}